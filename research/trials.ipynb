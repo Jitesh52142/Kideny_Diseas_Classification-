{
 "cells": [
  {
   "cell_type": "code",
   "execution_count": 1,
   "metadata": {},
   "outputs": [],
   "source": [
    "#download data from google drive "
   ]
  },
  {
   "cell_type": "code",
   "execution_count": 5,
   "id": "821e6b45",
   "metadata": {},
   "outputs": [],
   "source": [
    "url = 'https://drive.google.com/file/d/1MfhNwNMRGmcD7OnTO0cDOfi4i_qkRDv7/view?usp=drive_link'"
   ]
  },
  {
   "cell_type": "code",
   "execution_count": null,
   "id": "c38770bf",
   "metadata": {},
   "outputs": [
    {
     "data": {
      "text/plain": [
       "'https://drive.google.com/file/d/1MfhNwNMRGmcD7OnTO0cDOfi4i_qkRDv7/view?usp=drive_link'"
      ]
     },
     "execution_count": 6,
     "metadata": {},
     "output_type": "execute_result"
    }
   ],
   "source": []
  },
  {
   "cell_type": "code",
   "execution_count": 7,
   "id": "bbf42246",
   "metadata": {},
   "outputs": [],
   "source": [
    "import gdown "
   ]
  },
  {
   "cell_type": "code",
   "execution_count": 10,
   "id": "501b38d2",
   "metadata": {},
   "outputs": [],
   "source": [
    "file_id = url.split(\"/\")[-2]"
   ]
  },
  {
   "cell_type": "code",
   "execution_count": 11,
   "id": "ddbfb4f9",
   "metadata": {},
   "outputs": [
    {
     "data": {
      "text/plain": [
       "'1MfhNwNMRGmcD7OnTO0cDOfi4i_qkRDv7'"
      ]
     },
     "execution_count": 11,
     "metadata": {},
     "output_type": "execute_result"
    }
   ],
   "source": [
    "file_id"
   ]
  },
  {
   "cell_type": "code",
   "execution_count": 12,
   "id": "9f3abd7d",
   "metadata": {},
   "outputs": [
    {
     "name": "stderr",
     "output_type": "stream",
     "text": [
      "Downloading...\n",
      "From (original): https://drive.google.com/uc?/export=download&id=1MfhNwNMRGmcD7OnTO0cDOfi4i_qkRDv7\n",
      "From (redirected): https://drive.google.com/uc?%2Fexport=download&id=1MfhNwNMRGmcD7OnTO0cDOfi4i_qkRDv7&confirm=t&uuid=bb191453-f133-4863-8421-38f4adad74a6\n",
      "To: e:\\project\\Kideny_Disease_classification\\research\\Kideny-city-scan-data.zip\n",
      "100%|██████████| 941M/941M [03:22<00:00, 4.63MB/s] \n"
     ]
    },
    {
     "data": {
      "text/plain": [
       "'Kideny-city-scan-data.zip'"
      ]
     },
     "execution_count": 12,
     "metadata": {},
     "output_type": "execute_result"
    }
   ],
   "source": [
    "prefix = 'https://drive.google.com/uc?/export=download&id='\n",
    "gdown.download(prefix + file_id, 'Kideny-city-scan-data.zip')"
   ]
  },
  {
   "cell_type": "code",
   "execution_count": null,
   "id": "555282f9",
   "metadata": {},
   "outputs": [],
   "source": []
  }
 ],
 "metadata": {
  "kernelspec": {
   "display_name": ".venv",
   "language": "python",
   "name": "python3"
  },
  "language_info": {
   "codemirror_mode": {
    "name": "ipython",
    "version": 3
   },
   "file_extension": ".py",
   "mimetype": "text/x-python",
   "name": "python",
   "nbconvert_exporter": "python",
   "pygments_lexer": "ipython3",
   "version": "3.8.10"
  }
 },
 "nbformat": 4,
 "nbformat_minor": 5
}
